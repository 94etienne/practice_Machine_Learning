{
 "cells": [
  {
   "cell_type": "markdown",
   "id": "70c11599",
   "metadata": {},
   "source": [
    "<h1>1. Imports & Warnings</h1>"
   ]
  },
  {
   "cell_type": "code",
   "execution_count": 30,
   "id": "197621c4",
   "metadata": {},
   "outputs": [],
   "source": [
    "import pandas as pd\n",
    "import numpy as np\n",
    "from sklearn.preprocessing import LabelEncoder, StandardScaler\n",
    "from sklearn.naive_bayes import GaussianNB\n",
    "from sklearn.model_selection import train_test_split\n",
    "from sklearn.metrics import accuracy_score, classification_report, confusion_matrix\n",
    "import joblib\n",
    "import warnings\n",
    "warnings.filterwarnings('ignore')\n"
   ]
  },
  {
   "cell_type": "markdown",
   "id": "3580e661",
   "metadata": {},
   "source": [
    "<h1>2. Generate Synthetic Dataset (3000 records)</h1>"
   ]
  },
  {
   "cell_type": "code",
   "execution_count": 31,
   "id": "346a6f9a",
   "metadata": {},
   "outputs": [
    {
     "name": "stdout",
     "output_type": "stream",
     "text": [
      "Synthetic Tennis Dataset (first 10 rows):\n",
      "    outlook  temperature  humidity  windy play_tennis\n",
      "0     rainy           89        75  False         yes\n",
      "1     sunny           81        95  False          no\n",
      "2     rainy           87        63   True          no\n",
      "3     rainy           66        94  False         yes\n",
      "4     sunny           94        93   True          no\n",
      "5     sunny           87        73   True         yes\n",
      "6     rainy           73        90   True          no\n",
      "7  overcast           69        50  False         yes\n",
      "8     rainy           75        92  False         yes\n",
      "9     rainy           75        71  False         yes\n",
      "\n",
      "Dataset shape: (3000, 5)\n"
     ]
    }
   ],
   "source": [
    "# Fix seed for reproducibility\n",
    "np.random.seed(42)\n",
    "\n",
    "# Number of records\n",
    "n = 3000\n",
    "outlook_choices = ['sunny', 'overcast', 'rainy']\n",
    "\n",
    "# Create synthetic dataset\n",
    "data = {\n",
    "    'outlook': np.random.choice(outlook_choices, n),\n",
    "    'temperature': np.random.randint(60, 100, n),  # between 60°F and 100°F\n",
    "    'humidity': np.random.randint(50, 100, n),     # between 50% and 100%\n",
    "    'windy': np.random.choice([True, False], n)\n",
    "}\n",
    "\n",
    "df = pd.DataFrame(data)\n",
    "\n",
    "# Rules to determine target variable\n",
    "def decide_play(row):\n",
    "    if row['outlook'] == 'overcast':\n",
    "        return 'yes'\n",
    "    elif row['outlook'] == 'sunny':\n",
    "        return 'no' if row['humidity'] > 75 else 'yes'\n",
    "    elif row['outlook'] == 'rainy':\n",
    "        return 'no' if row['windy'] else 'yes'\n",
    "\n",
    "df['play_tennis'] = df.apply(decide_play, axis=1)\n",
    "\n",
    "print(\"Synthetic Tennis Dataset (first 10 rows):\")\n",
    "print(df.head(10))\n",
    "print(\"\\nDataset shape:\", df.shape)\n"
   ]
  },
  {
   "cell_type": "markdown",
   "id": "d4f42d2c",
   "metadata": {},
   "source": [
    "<h1>3. Preprocessing (Encoding + Scaling)</h1>"
   ]
  },
  {
   "cell_type": "code",
   "execution_count": 32,
   "id": "ddd1fc73",
   "metadata": {},
   "outputs": [],
   "source": [
    "# Encode categorical features\n",
    "label_encoders = {}\n",
    "for col in ['outlook', 'windy', 'play_tennis']:\n",
    "    le = LabelEncoder()\n",
    "    df[col] = le.fit_transform(df[col])\n",
    "    label_encoders[col] = le\n",
    "\n",
    "# Features and target\n",
    "X = df[['outlook', 'temperature', 'humidity', 'windy']]\n",
    "y = df['play_tennis']\n",
    "\n",
    "# Train-test split\n",
    "X_train, X_test, y_train, y_test = train_test_split(X, y, test_size=0.2, random_state=42)\n",
    "\n",
    "# Scale numerical features\n",
    "scaler = StandardScaler()\n",
    "X_train[['temperature', 'humidity']] = scaler.fit_transform(X_train[['temperature', 'humidity']])\n",
    "X_test[['temperature', 'humidity']] = scaler.transform(X_test[['temperature', 'humidity']])\n"
   ]
  },
  {
   "cell_type": "markdown",
   "id": "44da7b54",
   "metadata": {},
   "source": [
    "<h1>4. Train the Naive Bayes Model</h1>"
   ]
  },
  {
   "cell_type": "code",
   "execution_count": 33,
   "id": "9e7f4d5f",
   "metadata": {},
   "outputs": [],
   "source": [
    "# Train model\n",
    "model = GaussianNB()\n",
    "model.fit(X_train, y_train)\n",
    "\n",
    "# Predictions\n",
    "y_pred = model.predict(X_test)\n"
   ]
  },
  {
   "cell_type": "markdown",
   "id": "bc1d9d5d",
   "metadata": {},
   "source": [
    "<h1>5. Model Evaluation</h1>"
   ]
  },
  {
   "cell_type": "code",
   "execution_count": 34,
   "id": "02cf9e60",
   "metadata": {},
   "outputs": [
    {
     "name": "stdout",
     "output_type": "stream",
     "text": [
      "\n",
      "Model Accuracy: 82.17%\n",
      "\n",
      "Classification Report:\n",
      "              precision    recall  f1-score   support\n",
      "\n",
      "          no       0.76      0.62      0.68       186\n",
      "         yes       0.84      0.91      0.88       414\n",
      "\n",
      "    accuracy                           0.82       600\n",
      "   macro avg       0.80      0.77      0.78       600\n",
      "weighted avg       0.82      0.82      0.82       600\n",
      "\n",
      "Confusion Matrix:\n"
     ]
    },
    {
     "name": "stdout",
     "output_type": "stream",
     "text": [
      "[[116  70]\n",
      " [ 37 377]]\n"
     ]
    },
    {
     "data": {
      "image/png": "[encoded data removed]",
      "text/plain": [
       "<Figure size 500x400 with 2 Axes>"
      ]
     },
     "metadata": {},
     "output_type": "display_data"
    }
   ],
   "source": [
    "# Accuracy\n",
    "accuracy = accuracy_score(y_test, y_pred)\n",
    "print(\"\\nModel Accuracy: {:.2f}%\".format(accuracy * 100))\n",
    "\n",
    "# Classification report\n",
    "print(\"\\nClassification Report:\")\n",
    "print(classification_report(y_test, y_pred, target_names=label_encoders['play_tennis'].classes_))\n",
    "\n",
    "\n",
    "# Confusion matrix\n",
    "print(\"Confusion Matrix:\")\n",
    "print(confusion_matrix(y_test, y_pred))\n",
    "\n",
    "# Plot confusion matrix\n",
    "import matplotlib.pyplot as plt\n",
    "import seaborn as sns\n",
    "\n",
    "cm = confusion_matrix(y_test, y_pred)\n",
    "plt.figure(figsize=(5,4))\n",
    "sns.heatmap(cm, annot=True, fmt='d', cmap='Blues',\n",
    "            xticklabels=label_encoders['play_tennis'].classes_,\n",
    "            yticklabels=label_encoders['play_tennis'].classes_)\n",
    "plt.xlabel('Predicted')\n",
    "plt.ylabel('Actual')\n",
    "plt.title('Confusion Matrix')\n",
    "plt.show()\n",
    "\n"
   ]
  },
  {
   "cell_type": "markdown",
   "id": "9f5f2a59",
   "metadata": {},
   "source": [
    "<h1> Feature Importance </h1>"
   ]
  },
  {
   "cell_type": "code",
   "execution_count": 40,
   "id": "a547b188",
   "metadata": {},
   "outputs": [
    {
     "data": {
      "image/png": "[encoded data removed]",
      "text/plain": [
       "<Figure size 800x500 with 1 Axes>"
      ]
     },
     "metadata": {},
     "output_type": "display_data"
    }
   ],
   "source": [
    "# Plot feature importance (proxy: absolute mean values per class)\n",
    "import numpy as np\n",
    "\n",
    "feature_names = ['outlook', 'temperature', 'humidity', 'windy']\n",
    "class_names = label_encoders['play_tennis'].classes_\n",
    "\n",
    "plt.figure(figsize=(8,5))\n",
    "for i, class_label in enumerate(class_names):\n",
    "    plt.bar(np.arange(len(feature_names)) + i*0.3, \n",
    "            np.abs(model.theta_[i]), \n",
    "            width=0.3, \n",
    "            label=f'Class: {class_label}')\n",
    "\n",
    "plt.xticks(np.arange(len(feature_names)) + 0.3/2, feature_names)\n",
    "plt.ylabel('Absolute Mean Value (proxy)')\n",
    "plt.title('Feature Importance Proxy (Naive Bayes)')\n",
    "plt.legend()\n",
    "plt.tight_layout()\n",
    "plt.show()"
   ]
  },
  {
   "cell_type": "markdown",
   "id": "f68ba4e5",
   "metadata": {},
   "source": [
    "<h1>6. Save & Load Model</h1>"
   ]
  },
  {
   "cell_type": "code",
   "execution_count": 35,
   "id": "a49e3e90",
   "metadata": {},
   "outputs": [],
   "source": [
    "# Save model and scaler\n",
    "joblib.dump(model, \"model/tennis_model.joblib\")\n",
    "joblib.dump(scaler, \"model/scaler.joblib\")\n",
    "joblib.dump(label_encoders, \"model/label_encoders.joblib\")\n",
    "\n",
    "# Load them back\n",
    "loaded_model = joblib.load(\"model/tennis_model.joblib\")\n",
    "loaded_scaler = joblib.load(\"model/scaler.joblib\")\n",
    "loaded_encoders = joblib.load(\"model/label_encoders.joblib\")\n"
   ]
  },
  {
   "cell_type": "code",
   "execution_count": 36,
   "id": "00881a45",
   "metadata": {},
   "outputs": [
    {
     "data": {
      "text/html": [
       "<div>\n",
       "<style scoped>\n",
       "    .dataframe tbody tr th:only-of-type {\n",
       "        vertical-align: middle;\n",
       "    }\n",
       "\n",
       "    .dataframe tbody tr th {\n",
       "        vertical-align: top;\n",
       "    }\n",
       "\n",
       "    .dataframe thead th {\n",
       "        text-align: right;\n",
       "    }\n",
       "</style>\n",
       "<table border=\"1\" class=\"dataframe\">\n",
       "  <thead>\n",
       "    <tr style=\"text-align: right;\">\n",
       "      <th></th>\n",
       "      <th>outlook</th>\n",
       "      <th>temperature</th>\n",
       "      <th>humidity</th>\n",
       "      <th>windy</th>\n",
       "      <th>play_tennis</th>\n",
       "    </tr>\n",
       "  </thead>\n",
       "  <tbody>\n",
       "    <tr>\n",
       "      <th>0</th>\n",
       "      <td>1</td>\n",
       "      <td>89</td>\n",
       "      <td>75</td>\n",
       "      <td>0</td>\n",
       "      <td>1</td>\n",
       "    </tr>\n",
       "    <tr>\n",
       "      <th>1</th>\n",
       "      <td>2</td>\n",
       "      <td>81</td>\n",
       "      <td>95</td>\n",
       "      <td>0</td>\n",
       "      <td>0</td>\n",
       "    </tr>\n",
       "    <tr>\n",
       "      <th>2</th>\n",
       "      <td>1</td>\n",
       "      <td>87</td>\n",
       "      <td>63</td>\n",
       "      <td>1</td>\n",
       "      <td>0</td>\n",
       "    </tr>\n",
       "    <tr>\n",
       "      <th>3</th>\n",
       "      <td>1</td>\n",
       "      <td>66</td>\n",
       "      <td>94</td>\n",
       "      <td>0</td>\n",
       "      <td>1</td>\n",
       "    </tr>\n",
       "    <tr>\n",
       "      <th>4</th>\n",
       "      <td>2</td>\n",
       "      <td>94</td>\n",
       "      <td>93</td>\n",
       "      <td>1</td>\n",
       "      <td>0</td>\n",
       "    </tr>\n",
       "  </tbody>\n",
       "</table>\n",
       "</div>"
      ],
      "text/plain": [
       "   outlook  temperature  humidity  windy  play_tennis\n",
       "0        1           89        75      0            1\n",
       "1        2           81        95      0            0\n",
       "2        1           87        63      1            0\n",
       "3        1           66        94      0            1\n",
       "4        2           94        93      1            0"
      ]
     },
     "execution_count": 36,
     "metadata": {},
     "output_type": "execute_result"
    }
   ],
   "source": [
    "df.head()"
   ]
  },
  {
   "cell_type": "markdown",
   "id": "9416596a",
   "metadata": {},
   "source": [
    "<h1>7. Make Predictions on New Data</h1>"
   ]
  },
  {
   "cell_type": "code",
   "execution_count": 38,
   "id": "7d7af7da",
   "metadata": {},
   "outputs": [
    {
     "name": "stdout",
     "output_type": "stream",
     "text": [
      "\n",
      "Predictions on Test Cases:\n",
      "   outlook  temperature  humidity  windy Prediction\n",
      "0        2    -0.418277 -0.312757      1         no\n",
      "1        0    -1.034144 -0.661718      0        yes\n",
      "2        1    -1.298087  1.432051      0        yes\n",
      "3        2     0.461534  0.734128      0        yes\n"
     ]
    }
   ],
   "source": [
    "# Test new cases\n",
    "test_cases = [\n",
    "    ('sunny', 75, 70, True),     \n",
    "    ('overcast', 68, 65, False),  \n",
    "    ('rainy', 65, 95, False),     \n",
    "    ('sunny', 85, 85, False),     \n",
    "]\n",
    "\n",
    "# Convert test cases to DataFrame\n",
    "df_test = pd.DataFrame(test_cases, columns=['outlook', 'temperature', 'humidity', 'windy'])\n",
    "\n",
    "# Encode categorical features\n",
    "for col in ['outlook', 'windy']:\n",
    "    df_test[col] = loaded_encoders[col].transform(df_test[col])\n",
    "\n",
    "# Scale numerical features\n",
    "df_test[['temperature', 'humidity']] = loaded_scaler.transform(df_test[['temperature', 'humidity']])\n",
    "\n",
    "# Predict\n",
    "predictions = loaded_model.predict(df_test)\n",
    "df_test['Prediction'] = loaded_encoders['play_tennis'].inverse_transform(predictions)\n",
    "\n",
    "print(\"\\nPredictions on Test Cases:\")\n",
    "print(df_test)\n"
   ]
  },
  {
   "cell_type": "code",
   "execution_count": 39,
   "id": "cc7e74ef",
   "metadata": {},
   "outputs": [
    {
     "name": "stdout",
     "output_type": "stream",
     "text": [
      "\n",
      "Predictions on Test Cases (with original input):\n",
      "    outlook  temperature  humidity  windy Prediction\n",
      "0     sunny           75        70   True         no\n",
      "1  overcast           68        65  False        yes\n",
      "2     rainy           65        95  False        yes\n",
      "3     sunny           85        85  False        yes\n"
     ]
    }
   ],
   "source": [
    "# Test new cases\n",
    "test_cases = [\n",
    "    ('sunny', 75, 70, True),     \n",
    "    ('overcast', 68, 65, False),  \n",
    "    ('rainy', 65, 95, False),     \n",
    "    ('sunny', 85, 85, False),     \n",
    "]\n",
    "\n",
    "# Keep original input for display\n",
    "df_test_original = pd.DataFrame(test_cases, columns=['outlook', 'temperature', 'humidity', 'windy'])\n",
    "\n",
    "# Encode categorical features\n",
    "df_test = df_test_original.copy()\n",
    "for col in ['outlook', 'windy']:\n",
    "    df_test[col] = loaded_encoders[col].transform(df_test[col])\n",
    "\n",
    "# Scale numerical features\n",
    "df_test[['temperature', 'humidity']] = loaded_scaler.transform(df_test[['temperature', 'humidity']])\n",
    "\n",
    "# Predict\n",
    "predictions = loaded_model.predict(df_test)\n",
    "df_test_original['Prediction'] = loaded_encoders['play_tennis'].inverse_transform(predictions)\n",
    "\n",
    "print(\"\\nPredictions on Test Cases (with original input):\")\n",
    "print(df_test_original)"
   ]
  },
  {
   "cell_type": "code",
   "execution_count": null,
   "id": "1eb7da70",
   "metadata": {},
   "outputs": [],
   "source": []
  }
 ],
 "metadata": {
  "kernelspec": {
   "display_name": "Python 3",
   "language": "python",
   "name": "python3"
  },
  "language_info": {
   "codemirror_mode": {
    "name": "ipython",
    "version": 3
   },
   "file_extension": ".py",
   "mimetype": "text/x-python",
   "name": "python",
   "nbconvert_exporter": "python",
   "pygments_lexer": "ipython3",
   "version": "3.13.1"
  }
 },
 "nbformat": 4,
 "nbformat_minor": 5
}
