{
 "cells": [
  {
   "cell_type": "code",
   "execution_count": 8,
   "id": "dcc2b706",
   "metadata": {},
   "outputs": [],
   "source": [
    "import pandas as pd\n",
    "from sklearn.model_selection import train_test_split\n",
    "from sklearn.pipeline import Pipeline\n",
    "from sklearn.compose import ColumnTransformer\n",
    "from sklearn.preprocessing import OneHotEncoder\n",
    "from sklearn.impute import SimpleImputer\n",
    "from sklearn.linear_model import LinearRegression\n",
    "from sklearn.ensemble import RandomForestRegressor\n",
    "from xgboost import XGBRegressor\n",
    "from sklearn.metrics import mean_absolute_error, mean_squared_error, r2_score\n",
    "from sklearn.model_selection import cross_val_score\n",
    "import numpy as np\n",
    "import joblib"
   ]
  },
  {
   "cell_type": "code",
   "execution_count": 9,
   "id": "48a38a3a",
   "metadata": {},
   "outputs": [
    {
     "data": {
      "text/html": [
       "<div>\n",
       "<style scoped>\n",
       "    .dataframe tbody tr th:only-of-type {\n",
       "        vertical-align: middle;\n",
       "    }\n",
       "\n",
       "    .dataframe tbody tr th {\n",
       "        vertical-align: top;\n",
       "    }\n",
       "\n",
       "    .dataframe thead th {\n",
       "        text-align: right;\n",
       "    }\n",
       "</style>\n",
       "<table border=\"1\" class=\"dataframe\">\n",
       "  <thead>\n",
       "    <tr style=\"text-align: right;\">\n",
       "      <th></th>\n",
       "      <th>Plot_Number</th>\n",
       "      <th>Location</th>\n",
       "      <th>Size (sqm)</th>\n",
       "      <th>Price (RWF)</th>\n",
       "      <th>Zoning</th>\n",
       "      <th>Nearby Amenities</th>\n",
       "      <th>Distance to City Center (km)</th>\n",
       "      <th>Land Type</th>\n",
       "      <th>Price per sqm (RWF)</th>\n",
       "    </tr>\n",
       "  </thead>\n",
       "  <tbody>\n",
       "    <tr>\n",
       "      <th>0</th>\n",
       "      <td>Plot_1</td>\n",
       "      <td>Huye</td>\n",
       "      <td>351</td>\n",
       "      <td>6823440</td>\n",
       "      <td>Commercial</td>\n",
       "      <td>School, Market</td>\n",
       "      <td>5</td>\n",
       "      <td>Residential</td>\n",
       "      <td>19440.0</td>\n",
       "    </tr>\n",
       "    <tr>\n",
       "      <th>1</th>\n",
       "      <td>Plot_2</td>\n",
       "      <td>Ngoma</td>\n",
       "      <td>478</td>\n",
       "      <td>6711120</td>\n",
       "      <td>Commercial</td>\n",
       "      <td>Hospital, University</td>\n",
       "      <td>7</td>\n",
       "      <td>Residential</td>\n",
       "      <td>14040.0</td>\n",
       "    </tr>\n",
       "    <tr>\n",
       "      <th>2</th>\n",
       "      <td>Plot_3</td>\n",
       "      <td>Tumba</td>\n",
       "      <td>1334</td>\n",
       "      <td>27373680</td>\n",
       "      <td>Commercial</td>\n",
       "      <td>Market, University</td>\n",
       "      <td>1</td>\n",
       "      <td>Residential</td>\n",
       "      <td>20520.0</td>\n",
       "    </tr>\n",
       "    <tr>\n",
       "      <th>3</th>\n",
       "      <td>Plot_4</td>\n",
       "      <td>Rukira</td>\n",
       "      <td>869</td>\n",
       "      <td>5474700</td>\n",
       "      <td>Residential</td>\n",
       "      <td>School, Hospital</td>\n",
       "      <td>13</td>\n",
       "      <td>Agricultural</td>\n",
       "      <td>6300.0</td>\n",
       "    </tr>\n",
       "    <tr>\n",
       "      <th>4</th>\n",
       "      <td>Plot_5</td>\n",
       "      <td>Huye</td>\n",
       "      <td>740</td>\n",
       "      <td>11988000</td>\n",
       "      <td>Agricultural</td>\n",
       "      <td>School, Hospital</td>\n",
       "      <td>2</td>\n",
       "      <td>Residential</td>\n",
       "      <td>16200.0</td>\n",
       "    </tr>\n",
       "  </tbody>\n",
       "</table>\n",
       "</div>"
      ],
      "text/plain": [
       "  Plot_Number Location  Size (sqm)  Price (RWF)        Zoning  \\\n",
       "0      Plot_1     Huye         351      6823440    Commercial   \n",
       "1      Plot_2    Ngoma         478      6711120    Commercial   \n",
       "2      Plot_3    Tumba        1334     27373680    Commercial   \n",
       "3      Plot_4   Rukira         869      5474700   Residential   \n",
       "4      Plot_5     Huye         740     11988000  Agricultural   \n",
       "\n",
       "       Nearby Amenities  Distance to City Center (km)     Land Type  \\\n",
       "0        School, Market                             5   Residential   \n",
       "1  Hospital, University                             7   Residential   \n",
       "2    Market, University                             1   Residential   \n",
       "3      School, Hospital                            13  Agricultural   \n",
       "4      School, Hospital                             2   Residential   \n",
       "\n",
       "   Price per sqm (RWF)  \n",
       "0              19440.0  \n",
       "1              14040.0  \n",
       "2              20520.0  \n",
       "3               6300.0  \n",
       "4              16200.0  "
      ]
     },
     "execution_count": 9,
     "metadata": {},
     "output_type": "execute_result"
    }
   ],
   "source": [
    "# Load dataset\n",
    "df = pd.read_csv(\"Land_price_estimation.csv\")\n",
    "df.head()"
   ]
  },
  {
   "cell_type": "code",
   "execution_count": 10,
   "id": "e8ac0d8e",
   "metadata": {},
   "outputs": [
    {
     "name": "stdout",
     "output_type": "stream",
     "text": [
      "✅ Cleaned dataset shape: (1000, 6)\n"
     ]
    }
   ],
   "source": [
    "# Drop unused columns\n",
    "df = df.drop(columns=[\"Plot_Number\", \"Price per sqm (RWF)\"])\n",
    "\n",
    "# Merge 'Zoning' and 'Land Type' into one column\n",
    "df['Zoning_LandType'] = df['Zoning'].astype(str).str.strip() + \" - \" + df['Land Type'].astype(str).str.strip()\n",
    "df = df.drop(columns=[\"Zoning\", \"Land Type\"])\n",
    "\n",
    "# Drop rows with missing values (or you can impute)\n",
    "df = df.dropna()\n",
    "print(f\"✅ Cleaned dataset shape: {df.shape}\")"
   ]
  },
  {
   "cell_type": "code",
   "execution_count": 11,
   "id": "ec59b266",
   "metadata": {},
   "outputs": [],
   "source": [
    "# Define features and target\n",
    "X = df.drop(columns=[\"Price (RWF)\"])\n",
    "y = df[\"Price (RWF)\"]\n",
    "\n",
    "# Train-test split\n",
    "X_train, X_test, y_train, y_test = train_test_split(X, y, test_size=0.2, random_state=42)\n"
   ]
  },
  {
   "cell_type": "code",
   "execution_count": 12,
   "id": "f5919781",
   "metadata": {},
   "outputs": [],
   "source": [
    "# Identify columns\n",
    "categorical_cols = X.select_dtypes(include='object').columns.tolist()\n",
    "numerical_cols = X.select_dtypes(exclude='object').columns.tolist()\n",
    "\n",
    "# Preprocessors\n",
    "numerical_transformer = Pipeline([\n",
    "    (\"imputer\", SimpleImputer(strategy=\"mean\"))\n",
    "])\n",
    "categorical_transformer = Pipeline([\n",
    "    (\"imputer\", SimpleImputer(strategy=\"most_frequent\")),\n",
    "    (\"encoder\", OneHotEncoder(handle_unknown=\"ignore\"))\n",
    "])\n",
    "preprocessor = ColumnTransformer([\n",
    "    (\"num\", numerical_transformer, numerical_cols),\n",
    "    (\"cat\", categorical_transformer, categorical_cols)\n",
    "])\n",
    "\n",
    "# Models\n",
    "models = {\n",
    "    \"Linear Regression\": LinearRegression(),\n",
    "    \"Random Forest\": RandomForestRegressor(random_state=42),\n",
    "    \"XGBoost\": XGBRegressor(random_state=42)\n",
    "}\n"
   ]
  },
  {
   "cell_type": "code",
   "execution_count": 13,
   "id": "abaebe22",
   "metadata": {},
   "outputs": [
    {
     "name": "stdout",
     "output_type": "stream",
     "text": [
      "\n",
      "🔧 Training Linear Regression...\n",
      "\n",
      "🔧 Training Random Forest...\n",
      "\n",
      "🔧 Training XGBoost...\n",
      "\n",
      "📊 Model Comparison:\n",
      "            Model  R2_Score          MAE         RMSE  CV_Mean   CV_Std\n",
      "          XGBoost  0.925026 1.575433e+06 2.243948e+06 0.909966 0.011043\n",
      "    Random Forest  0.907022 1.802510e+06 2.498892e+06 0.900794 0.009958\n",
      "Linear Regression  0.875425 2.192825e+06 2.892488e+06 0.850834 0.012129\n"
     ]
    }
   ],
   "source": [
    "results = []\n",
    "\n",
    "for name, model in models.items():\n",
    "    print(f\"\\n🔧 Training {name}...\")\n",
    "    \n",
    "    pipeline = Pipeline([\n",
    "        ('preprocessor', preprocessor),\n",
    "        ('regressor', model)\n",
    "    ])\n",
    "    \n",
    "    pipeline.fit(X_train, y_train)\n",
    "    y_pred = pipeline.predict(X_test)\n",
    "    cv_scores = cross_val_score(pipeline, X_train, y_train, scoring='r2', cv=5)\n",
    "    \n",
    "    results.append({\n",
    "        \"Model\": name,\n",
    "        \"R2_Score\": r2_score(y_test, y_pred),\n",
    "        \"MAE\": mean_absolute_error(y_test, y_pred),\n",
    "        \"RMSE\": np.sqrt(mean_squared_error(y_test, y_pred)),\n",
    "        \"CV_Mean\": cv_scores.mean(),\n",
    "        \"CV_Std\": cv_scores.std()\n",
    "    })\n",
    "\n",
    "results_df = pd.DataFrame(results).sort_values(by=\"R2_Score\", ascending=False)\n",
    "print(\"\\n📊 Model Comparison:\")\n",
    "print(results_df.to_string(index=False))"
   ]
  },
  {
   "cell_type": "code",
   "execution_count": 15,
   "id": "65c0bae0",
   "metadata": {},
   "outputs": [
    {
     "name": "stdout",
     "output_type": "stream",
     "text": [
      "\n",
      "🏆 Best Model: XGBoost\n",
      "✅ Model saved as 'best_model.pkl'\n"
     ]
    }
   ],
   "source": [
    "# Save best model\n",
    "best_model_name = results_df.iloc[0][\"Model\"]\n",
    "print(f\"\\n🏆 Best Model: {best_model_name}\")\n",
    "\n",
    "best_pipeline = Pipeline([\n",
    "    ('preprocessor', preprocessor),\n",
    "    ('regressor', models[best_model_name])\n",
    "])\n",
    "best_pipeline.fit(X_train, y_train)\n",
    "joblib.dump(best_pipeline, \"best_model.pkl\")\n",
    "print(\"✅ Model saved as 'best_model.pkl'\")\n"
   ]
  },
  {
   "cell_type": "code",
   "execution_count": 16,
   "id": "de27dfae",
   "metadata": {},
   "outputs": [
    {
     "name": "stdout",
     "output_type": "stream",
     "text": [
      "\n",
      "📄 Sample Predictions vs Actual:\n",
      "   Price (RWF)  Predicted Price (RWF)\n",
      "0      6823440             6881351.50\n",
      "1      6711120             6698110.50\n",
      "2     27373680            27322616.00\n",
      "3      5474700             5465725.50\n",
      "4     11988000            11880898.00\n",
      "5      7741440             7739233.00\n",
      "6      4978800             5295048.50\n",
      "7     15630300            15315454.00\n",
      "8      3910500             4135653.75\n",
      "9      9630720             9506923.00\n",
      "✅ Predictions saved to 'land_price_with_predictions.csv'\n"
     ]
    }
   ],
   "source": [
    "# Load original dataset\n",
    "df_orig = pd.read_csv(\"Land_price_estimation.csv\")\n",
    "df_orig['Zoning_LandType'] = df_orig['Zoning'].astype(str).str.strip() + \" - \" + df_orig['Land Type'].astype(str).str.strip()\n",
    "X_full = df_orig.drop(columns=[\"Plot_Number\", \"Price per sqm (RWF)\", \"Price (RWF)\", \"Zoning\", \"Land Type\"])\n",
    "\n",
    "# Predict\n",
    "model = joblib.load(\"best_model.pkl\")\n",
    "predictions = model.predict(X_full)\n",
    "\n",
    "# Add predictions\n",
    "df_orig['Predicted Price (RWF)'] = predictions\n",
    "\n",
    "# Show results\n",
    "print(\"\\n📄 Sample Predictions vs Actual:\")\n",
    "print(df_orig[[\"Price (RWF)\", \"Predicted Price (RWF)\"]].head(10))\n",
    "\n",
    "# Save to CSV\n",
    "df_orig.to_csv(\"land_price_with_predictions.csv\", index=False)\n",
    "print(\"✅ Predictions saved to 'land_price_with_predictions.csv'\")\n"
   ]
  },
  {
   "cell_type": "code",
   "execution_count": 17,
   "id": "52b668e5",
   "metadata": {},
   "outputs": [
    {
     "name": "stdout",
     "output_type": "stream",
     "text": [
      "✅ Model was trained with these features:\n",
      " ['num__Size (sqm)' 'num__Distance to City Center (km)'\n",
      " 'cat__Location_Huye' 'cat__Location_Ngoma' 'cat__Location_Rukira'\n",
      " 'cat__Location_Tumba' 'cat__Nearby Amenities_Hospital, University'\n",
      " 'cat__Nearby Amenities_Market, University'\n",
      " 'cat__Nearby Amenities_School, Hospital'\n",
      " 'cat__Nearby Amenities_School, Market'\n",
      " 'cat__Zoning_LandType_Agricultural - Agricultural'\n",
      " 'cat__Zoning_LandType_Agricultural - Commercial'\n",
      " 'cat__Zoning_LandType_Agricultural - Residential'\n",
      " 'cat__Zoning_LandType_Commercial - Agricultural'\n",
      " 'cat__Zoning_LandType_Commercial - Commercial'\n",
      " 'cat__Zoning_LandType_Commercial - Residential'\n",
      " 'cat__Zoning_LandType_Residential - Agricultural'\n",
      " 'cat__Zoning_LandType_Residential - Commercial'\n",
      " 'cat__Zoning_LandType_Residential - Residential']\n"
     ]
    }
   ],
   "source": [
    "import joblib\n",
    "\n",
    "# Load your trained model\n",
    "model = joblib.load(\"best_model.pkl\")\n",
    "\n",
    "# Try to get feature names from the ColumnTransformer inside the pipeline\n",
    "preprocessor = model.named_steps['preprocessor']\n",
    "\n",
    "# Get all final feature names (after preprocessing)\n",
    "try:\n",
    "    feature_names = preprocessor.get_feature_names_out()\n",
    "    print(\"✅ Model was trained with these features:\\n\", feature_names)\n",
    "except AttributeError:\n",
    "    print(\"⚠️ Could not extract feature names (you may be using older sklearn version).\")\n"
   ]
  },
  {
   "cell_type": "code",
   "execution_count": null,
   "id": "c16d3ad9",
   "metadata": {},
   "outputs": [],
   "source": []
  }
 ],
 "metadata": {
  "kernelspec": {
   "display_name": "Python 3",
   "language": "python",
   "name": "python3"
  },
  "language_info": {
   "codemirror_mode": {
    "name": "ipython",
    "version": 3
   },
   "file_extension": ".py",
   "mimetype": "text/x-python",
   "name": "python",
   "nbconvert_exporter": "python",
   "pygments_lexer": "ipython3",
   "version": "3.13.2"
  }
 },
 "nbformat": 4,
 "nbformat_minor": 5
}
