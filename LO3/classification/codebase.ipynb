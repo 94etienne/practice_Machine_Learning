{
 "cells": [
  {
   "cell_type": "code",
   "execution_count": 3,
   "id": "7cfbce3b",
   "metadata": {},
   "outputs": [
    {
     "name": "stdout",
     "output_type": "stream",
     "text": [
      "Dataset shape: (300, 6)\n",
      "Class distribution:\n",
      "is_spam\n",
      "1    200\n",
      "0    100\n",
      "Name: count, dtype: int64\n",
      "\n",
      "Model Performance:\n",
      "Accuracy: 0.9667\n",
      "\n",
      "Confusion Matrix:\n",
      "[[28  2]\n",
      " [ 1 59]]\n",
      "\n",
      "Detailed Classification Report:\n",
      "              precision    recall  f1-score   support\n",
      "\n",
      "           0       0.97      0.93      0.95        30\n",
      "           1       0.97      0.98      0.98        60\n",
      "\n",
      "    accuracy                           0.97        90\n",
      "   macro avg       0.97      0.96      0.96        90\n",
      "weighted avg       0.97      0.97      0.97        90\n",
      "\n"
     ]
    },
    {
     "data": {
      "image/png": "[encoded data removed]",
      "text/plain": [
       "<Figure size 600x500 with 1 Axes>"
      ]
     },
     "metadata": {},
     "output_type": "display_data"
    }
   ],
   "source": [
    "import pandas as pd\n",
    "import numpy as np\n",
    "import matplotlib.pyplot as plt\n",
    "import seaborn as sns\n",
    "from sklearn.model_selection import train_test_split\n",
    "from sklearn.ensemble import RandomForestClassifier\n",
    "from sklearn.metrics import accuracy_score, classification_report, confusion_matrix\n",
    "\n",
    "# Generate synthetic email spam dataset\n",
    "np.random.seed(42)\n",
    "n_samples = 300\n",
    "\n",
    "# Generate features\n",
    "email_length = np.random.normal(500, 200, n_samples)\n",
    "num_exclamations = np.random.poisson(2, n_samples)\n",
    "num_capitals = np.random.poisson(10, n_samples)\n",
    "contains_money_words = np.random.binomial(1, 0.3, n_samples)\n",
    "sender_reputation = np.random.uniform(0, 10, n_samples)\n",
    "\n",
    "# Create target variable deterministically (no randomness → perfect learnable rule)\n",
    "is_spam = (\n",
    "    (email_length < 300).astype(int) |\n",
    "    (num_exclamations > 3).astype(int) |\n",
    "    (num_capitals > 15).astype(int) |\n",
    "    (contains_money_words == 1).astype(int) |\n",
    "    (sender_reputation < 3).astype(int)\n",
    ")\n",
    "\n",
    "# Create DataFrame\n",
    "data = pd.DataFrame({\n",
    "    'email_length': email_length,\n",
    "    'num_exclamations': num_exclamations,\n",
    "    'num_capitals': num_capitals,\n",
    "    'contains_money_words': contains_money_words,\n",
    "    'sender_reputation': sender_reputation,\n",
    "    'is_spam': is_spam\n",
    "})\n",
    "\n",
    "print(\"Dataset shape:\", data.shape)\n",
    "print(\"Class distribution:\")\n",
    "print(data['is_spam'].value_counts())\n",
    "\n",
    "# Split data\n",
    "X = data.drop('is_spam', axis=1)\n",
    "y = data['is_spam']\n",
    "X_train, X_test, y_train, y_test = train_test_split(\n",
    "    X, y, test_size=0.3, random_state=42, stratify=y\n",
    ")\n",
    "\n",
    "# Train Random Forest model\n",
    "rf_model = RandomForestClassifier(n_estimators=100, random_state=42)\n",
    "rf_model.fit(X_train, y_train)\n",
    "\n",
    "# Make predictions\n",
    "y_pred = rf_model.predict(X_test)\n",
    "\n",
    "# Calculate metrics\n",
    "accuracy = accuracy_score(y_test, y_pred)\n",
    "print(f\"\\nModel Performance:\")\n",
    "print(f\"Accuracy: {accuracy:.4f}\")\n",
    "\n",
    "# Confusion Matrix\n",
    "cm = confusion_matrix(y_test, y_pred)\n",
    "print(f\"\\nConfusion Matrix:\\n{cm}\")\n",
    "\n",
    "# Classification Report\n",
    "print(\"\\nDetailed Classification Report:\")\n",
    "print(classification_report(y_test, y_pred))\n",
    "\n",
    "# --- Plot Confusion Matrix ---\n",
    "plt.figure(figsize=(6, 5))\n",
    "sns.heatmap(cm, annot=True, fmt=\"d\", cmap=\"Blues\", cbar=False,\n",
    "            xticklabels=[\"Not Spam (0)\", \"Spam (1)\"],\n",
    "            yticklabels=[\"Not Spam (0)\", \"Spam (1)\"])\n",
    "plt.xlabel(\"Predicted Label\")\n",
    "plt.ylabel(\"True Label\")\n",
    "plt.title(\"Confusion Matrix\")\n",
    "plt.show()\n"
   ]
  },
  {
   "cell_type": "markdown",
   "id": "a533971f",
   "metadata": {},
   "source": [
    "<h1>RESULTS ANALYSIS & Interpretation</h1>"
   ]
  },
  {
   "cell_type": "code",
   "execution_count": 5,
   "id": "8c551094",
   "metadata": {},
   "outputs": [
    {
     "name": "stdout",
     "output_type": "stream",
     "text": [
      "\n",
      "=== Test Data with Actual vs Predicted Labels ===\n",
      " email_length  num_exclamations  num_capitals  contains_money_words  sender_reputation  Actual_Label  Predicted_Label\n",
      "   592.420695                 2            10                     0           7.130461             0                0\n",
      "   509.114368                 1            11                     0           8.039585             0                0\n",
      "   278.733005                 2            12                     0           0.233521             1                1\n",
      "   617.371419                 0             8                     0           1.487960             1                1\n",
      "   305.063666                 3            10                     0           7.227070             0                1\n"
     ]
    }
   ],
   "source": [
    "# Create a results DataFrame for comparison\n",
    "results = X_test.copy()  # copy test inputs\n",
    "results['Actual_Label'] = y_test.values\n",
    "results['Predicted_Label'] = y_pred\n",
    "\n",
    "print(\"\\n=== Test Data with Actual vs Predicted Labels ===\")\n",
    "print(results.head().to_string(index=False))\n"
   ]
  },
  {
   "cell_type": "code",
   "execution_count": null,
   "id": "78687f1d",
   "metadata": {},
   "outputs": [],
   "source": []
  }
 ],
 "metadata": {
  "kernelspec": {
   "display_name": "Python 3",
   "language": "python",
   "name": "python3"
  },
  "language_info": {
   "codemirror_mode": {
    "name": "ipython",
    "version": 3
   },
   "file_extension": ".py",
   "mimetype": "text/x-python",
   "name": "python",
   "nbconvert_exporter": "python",
   "pygments_lexer": "ipython3",
   "version": "3.13.1"
  }
 },
 "nbformat": 4,
 "nbformat_minor": 5
}
